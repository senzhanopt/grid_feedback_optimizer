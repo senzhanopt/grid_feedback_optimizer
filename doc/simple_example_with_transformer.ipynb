{
 "cells": [
  {
   "cell_type": "code",
   "execution_count": 1,
   "id": "eeb20345",
   "metadata": {},
   "outputs": [],
   "source": [
    "from grid_feedback_optimizer.models.loader import load_network\n",
    "from grid_feedback_optimizer.engine.solve import solve\n",
    "from grid_feedback_optimizer.engine.powerflow import PowerFlowSolver"
   ]
  },
  {
   "cell_type": "code",
   "execution_count": 2,
   "id": "91b49242",
   "metadata": {},
   "outputs": [],
   "source": [
    "# Path to the example JSON in your project\n",
    "network = load_network(\"../examples/simple_example_with_transformer.json\")"
   ]
  },
  {
   "cell_type": "code",
   "execution_count": 3,
   "id": "013af414",
   "metadata": {},
   "outputs": [
    {
     "data": {
      "text/plain": [
       "np.True_"
      ]
     },
     "execution_count": 3,
     "metadata": {},
     "output_type": "execute_result"
    }
   ],
   "source": [
    "power_flow_solver = PowerFlowSolver(network)\n",
    "power_flow_solver.is_congested"
   ]
  },
  {
   "cell_type": "code",
   "execution_count": 4,
   "id": "8b77e2bb",
   "metadata": {},
   "outputs": [
    {
     "name": "stdout",
     "output_type": "stream",
     "text": [
      "Converged ✅\n",
      "\n",
      "📊 Optimization Summary:\n",
      "Total iterations: 8\n",
      "Final generator setpoints (p): [45997.65820046]\n",
      "Final generator setpoints (q): [-2963.93462716]\n",
      "Node voltages (p.u.): [0.9999994551273013, 1.003249833554603, 1.049999999854938]\n",
      "Line loadings (max 1.0): [0.9990441551473737]\n",
      "Transformer loadings (max 1.0): [0.8660254037014834]\n",
      "✅ Summary printed successfully.\n",
      "\n",
      "✅ Results saved to gp_result.json\n"
     ]
    }
   ],
   "source": [
    "# using gradient projection algorithm\n",
    "res_gp = solve(network, algorithm = \"gp\")\n",
    "res_gp.print_summary()\n",
    "res_gp.plot_iterations()\n",
    "res_gp.save(\"gp_result.json\")"
   ]
  },
  {
   "cell_type": "code",
   "execution_count": 5,
   "id": "d1a83e9a",
   "metadata": {},
   "outputs": [
    {
     "name": "stdout",
     "output_type": "stream",
     "text": [
      "Converged ✅\n",
      "\n",
      "📊 Optimization Summary:\n",
      "Total iterations: 851\n",
      "Final generator setpoints (p): [45997.67070154]\n",
      "Final generator setpoints (q): [-2963.85875808]\n",
      "Node voltages (p.u.): [0.999999455135186, 1.003250028484922, 1.050000296177718]\n",
      "Line loadings (max 1.0): [0.9990439287407112]\n",
      "Transformer loadings (max 1.0): [0.8660254026758548]\n",
      "✅ Summary printed successfully.\n",
      "\n",
      "✅ Results saved to pd_result.json\n"
     ]
    }
   ],
   "source": [
    "# using primal-dual algorithm\n",
    "res_pd = solve(network, algorithm = \"pd\")\n",
    "res_pd.print_summary()\n",
    "res_pd.plot_iterations()\n",
    "res_pd.save(\"pd_result.json\")"
   ]
  }
 ],
 "metadata": {
  "kernelspec": {
   "display_name": "venv",
   "language": "python",
   "name": "python3"
  },
  "language_info": {
   "codemirror_mode": {
    "name": "ipython",
    "version": 3
   },
   "file_extension": ".py",
   "mimetype": "text/x-python",
   "name": "python",
   "nbconvert_exporter": "python",
   "pygments_lexer": "ipython3",
   "version": "3.11.0"
  }
 },
 "nbformat": 4,
 "nbformat_minor": 5
}
