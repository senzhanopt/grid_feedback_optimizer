{
 "cells": [
  {
   "cell_type": "code",
   "execution_count": 1,
   "id": "eeb20345",
   "metadata": {},
   "outputs": [],
   "source": [
    "from grid_feedback_optimizer.models.loader import load_network\n",
    "from grid_feedback_optimizer.engine.solve import solve\n",
    "from grid_feedback_optimizer.engine.powerflow import PowerFlowSolver"
   ]
  },
  {
   "cell_type": "code",
   "execution_count": 2,
   "id": "91b49242",
   "metadata": {},
   "outputs": [],
   "source": [
    "# Path to the example JSON in your project\n",
    "network = load_network(\"../examples/simple_example_with_transformer.json\")"
   ]
  },
  {
   "cell_type": "code",
   "execution_count": 3,
   "id": "013af414",
   "metadata": {},
   "outputs": [
    {
     "data": {
      "text/plain": [
       "np.True_"
      ]
     },
     "execution_count": 3,
     "metadata": {},
     "output_type": "execute_result"
    }
   ],
   "source": [
    "power_flow_solver = PowerFlowSolver(network)\n",
    "power_flow_solver.is_congested"
   ]
  },
  {
   "cell_type": "code",
   "execution_count": 4,
   "id": "8b77e2bb",
   "metadata": {},
   "outputs": [
    {
     "name": "stdout",
     "output_type": "stream",
     "text": [
      "Converged ✅\n",
      "\n",
      "📊 Optimization Summary:\n",
      "Total iterations: 8\n",
      "Final generator setpoints (p): [45997.66]\n",
      "Final generator setpoints (q): [-2963.93]\n",
      "Node voltages (p.u.): [1.    1.003 1.05 ]\n",
      "Line loadings (max 1.0): [0.999]\n",
      "Transformer loadings (max 1.0): [0.866]\n",
      "✅ Summary printed successfully.\n",
      "\n"
     ]
    }
   ],
   "source": [
    "# using gradient projection algorithm\n",
    "res_gp = solve(network, algorithm = \"gp\")\n",
    "res_gp.print_summary()\n",
    "res_gp.plot_iterations()"
   ]
  },
  {
   "cell_type": "code",
   "execution_count": 5,
   "id": "d1a83e9a",
   "metadata": {},
   "outputs": [
    {
     "name": "stdout",
     "output_type": "stream",
     "text": [
      "Converged ✅\n",
      "\n",
      "📊 Optimization Summary:\n",
      "Total iterations: 851\n",
      "Final generator setpoints (p): [45997.67]\n",
      "Final generator setpoints (q): [-2963.86]\n",
      "Node voltages (p.u.): [1.    1.003 1.05 ]\n",
      "Line loadings (max 1.0): [0.999]\n",
      "Transformer loadings (max 1.0): [0.866]\n",
      "✅ Summary printed successfully.\n",
      "\n"
     ]
    }
   ],
   "source": [
    "# using primal-dual algorithm\n",
    "res_pd = solve(network, algorithm = \"pd\")\n",
    "res_pd.print_summary()\n",
    "res_pd.plot_iterations()"
   ]
  }
 ],
 "metadata": {
  "kernelspec": {
   "display_name": "venv",
   "language": "python",
   "name": "python3"
  },
  "language_info": {
   "codemirror_mode": {
    "name": "ipython",
    "version": 3
   },
   "file_extension": ".py",
   "mimetype": "text/x-python",
   "name": "python",
   "nbconvert_exporter": "python",
   "pygments_lexer": "ipython3",
   "version": "3.11.0"
  }
 },
 "nbformat": 4,
 "nbformat_minor": 5
}
